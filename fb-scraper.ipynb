{
 "cells": [
  {
   "cell_type": "code",
   "execution_count": null,
   "source": [
    "!pip install facebook_scraper\r\n",
    "!pip install Pillow"
   ],
   "outputs": [],
   "metadata": {}
  },
  {
   "cell_type": "code",
   "execution_count": 1,
   "source": [
    "from facebook_scraper import *\r\n",
    "import os\r\n",
    "import io\r\n",
    "import requests\r\n",
    "from PIL import Image\r\n",
    "import tempfile"
   ],
   "outputs": [],
   "metadata": {}
  },
  {
   "cell_type": "code",
   "execution_count": 2,
   "source": [
    "def download_image(img_url, out_dir, img_name):\r\n",
    "    buffer = tempfile.SpooledTemporaryFile(max_size=1e9)\r\n",
    "    r = requests.get(img_url, stream=True)\r\n",
    "    if r.status_code == 200:\r\n",
    "        downloaded = 0\r\n",
    "        filesize = int(r.headers['content-length'])\r\n",
    "        for chunk in r.iter_content(chunk_size=1024):\r\n",
    "            downloaded += len(chunk)\r\n",
    "            buffer.write(chunk)\r\n",
    "            print(downloaded/filesize)\r\n",
    "        buffer.seek(0)\r\n",
    "        i = Image.open(io.BytesIO(buffer.read()))\r\n",
    "        i.save(os.path.join(out_dir, img_name), quality=85)\r\n",
    "    buffer.close()"
   ],
   "outputs": [],
   "metadata": {}
  },
  {
   "cell_type": "code",
   "execution_count": null,
   "source": [
    "count = 0\r\n",
    "\r\n",
    "for img in get_photos('name of the public page without spaces', pages=1000):\r\n",
    "    img_name = \"\".join(['image', str(count), '.jpg'])\r\n",
    "    download_image(img['images'][0], \"\", img_name)\r\n",
    "    count += 1"
   ],
   "outputs": [],
   "metadata": {}
  },
  {
   "cell_type": "code",
   "execution_count": null,
   "source": [],
   "outputs": [],
   "metadata": {}
  }
 ],
 "metadata": {
  "orig_nbformat": 4,
  "language_info": {
   "name": "python",
   "version": "3.9.0",
   "mimetype": "text/x-python",
   "codemirror_mode": {
    "name": "ipython",
    "version": 3
   },
   "pygments_lexer": "ipython3",
   "nbconvert_exporter": "python",
   "file_extension": ".py"
  },
  "kernelspec": {
   "name": "python3",
   "display_name": "Python 3.9.0 64-bit"
  },
  "interpreter": {
   "hash": "63fd5069d213b44bf678585dea6b12cceca9941eaf7f819626cde1f2670de90d"
  }
 },
 "nbformat": 4,
 "nbformat_minor": 2
}